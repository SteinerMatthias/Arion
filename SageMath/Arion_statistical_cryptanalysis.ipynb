{
 "cells": [
  {
   "cell_type": "markdown",
   "metadata": {},
   "source": [
    "# Statistical Cryptanalysis Of Arion\n",
    "\n",
    "In this SageMath notebook we compute the security levels for differential and linear cryptanalysis of Arion."
   ]
  },
  {
   "cell_type": "code",
   "execution_count": 1,
   "metadata": {},
   "outputs": [],
   "source": [
    "def log2(n):\n",
    "    return log(n) / log(2)"
   ]
  },
  {
   "cell_type": "markdown",
   "metadata": {},
   "source": [
    "## Differential Cryptanalysis\n",
    "\n",
    "$$\\kappa \\leq r \\cdot \\big( \\log_2 (p) - \\log_2 (d_2) \\big)$$"
   ]
  },
  {
   "cell_type": "code",
   "execution_count": 2,
   "metadata": {},
   "outputs": [],
   "source": [
    "def differential_security_level(q, r, e):\n",
    "    out = r * (log2(q) - log2(e))\n",
    "    return float(out)"
   ]
  },
  {
   "cell_type": "code",
   "execution_count": 3,
   "metadata": {},
   "outputs": [
    {
     "name": "stdout",
     "output_type": "stream",
     "text": [
      "Size: 2^60\n",
      "r \t e \t kappa_diff\n",
      "1 \t 512 \t 51 \t\n",
      "2 \t 512 \t 102 \t\n",
      "3 \t 512 \t 152 \t\n",
      "\n",
      "\n",
      "Size: 2^120\n",
      "r \t e \t kappa_diff\n",
      "1 \t 512 \t 111 \t\n",
      "2 \t 512 \t 222 \t\n",
      "\n",
      "\n",
      "Size: 2^250\n",
      "r \t e \t kappa_diff\n",
      "1 \t 512 \t 241 \t\n",
      "\n",
      "\n"
     ]
    }
   ],
   "source": [
    "e = 2**9\n",
    "size = [60, 120, 250]\n",
    "r = 9\n",
    "max_security_level = 128\n",
    "\n",
    "for n in size:\n",
    "    q = 2**n\n",
    "    print(\"Size: 2^\" + str(n))\n",
    "    print(\"r\", \"\\t\",\n",
    "          \"e\", \"\\t\",\n",
    "          \"kappa_diff\")\n",
    "    r = 1\n",
    "    stop = False\n",
    "    while not stop:\n",
    "        level = floor(differential_security_level(q, r, e))\n",
    "        print(r, \"\\t\",\n",
    "              e, \"\\t\",\n",
    "              level, \"\\t\")\n",
    "        if level > max_security_level:\n",
    "            stop = True\n",
    "        r += 1\n",
    "    print(\"\\n\")"
   ]
  },
  {
   "cell_type": "markdown",
   "metadata": {},
   "source": [
    "## Linear Cryptanalysis\n",
    "\n",
    "$$ \\kappa \\leq 2 + r \\cdot \\log_2 (q) - 2 \\cdot r \\cdot \\log_2 (d_2) - \\log_2(D) $$"
   ]
  },
  {
   "cell_type": "code",
   "execution_count": 4,
   "metadata": {},
   "outputs": [],
   "source": [
    "def linear_security_level(q, r, e, D):\n",
    "    out = 2 + r * log2(q) - 2 * r * log2(e) - log2(D)\n",
    "    return float(out)"
   ]
  },
  {
   "cell_type": "code",
   "execution_count": 5,
   "metadata": {},
   "outputs": [
    {
     "name": "stdout",
     "output_type": "stream",
     "text": [
      "Size: 2^60\n",
      "r \t e \t data \t kappa_lin\n",
      "2 \t 512 \t 60 \t 26\n",
      "3 \t 512 \t 60 \t 68\n",
      "4 \t 512 \t 60 \t 109\n",
      "5 \t 512 \t 60 \t 152\n",
      "3 \t 512 \t 120 \t 7\n",
      "4 \t 512 \t 120 \t 50\n",
      "5 \t 512 \t 120 \t 92\n",
      "6 \t 512 \t 120 \t 133\n",
      "4 \t 512 \t 180 \t -10\n",
      "5 \t 512 \t 180 \t 32\n",
      "6 \t 512 \t 180 \t 73\n",
      "7 \t 512 \t 180 \t 115\n",
      "8 \t 512 \t 180 \t 158\n",
      "5 \t 512 \t 240 \t -28\n",
      "6 \t 512 \t 240 \t 13\n",
      "7 \t 512 \t 240 \t 55\n",
      "8 \t 512 \t 240 \t 98\n",
      "9 \t 512 \t 240 \t 140\n",
      "\n",
      "\n",
      "Size: 2^120\n",
      "r \t e \t data \t kappa_lin\n",
      "2 \t 512 \t 120 \t 86\n",
      "3 \t 512 \t 120 \t 188\n",
      "3 \t 512 \t 240 \t 67\n",
      "4 \t 512 \t 240 \t 170\n",
      "4 \t 512 \t 360 \t 50\n",
      "5 \t 512 \t 360 \t 152\n",
      "5 \t 512 \t 480 \t 32\n",
      "6 \t 512 \t 480 \t 133\n",
      "\n",
      "\n",
      "Size: 2^250\n",
      "r \t e \t data \t kappa_lin\n",
      "2 \t 512 \t 250 \t 216\n",
      "3 \t 512 \t 500 \t 198\n",
      "4 \t 512 \t 750 \t 180\n",
      "5 \t 512 \t 1000 \t 162\n",
      "\n",
      "\n"
     ]
    }
   ],
   "source": [
    "e = 2**9\n",
    "size = [60, 120, 250]\n",
    "max_block_size = 4\n",
    "max_security_level = 128\n",
    "\n",
    "for n in size:\n",
    "    q = 2**n\n",
    "    print(\"Size: 2^\" + str(n))\n",
    "    print(\"r\", \"\\t\",\n",
    "          \"e\", \"\\t\",\n",
    "          \"data\", \"\\t\",\n",
    "          \"kappa_lin\")\n",
    "    for m in range(1, max_block_size + 1):\n",
    "        stop = False\n",
    "        r = 1\n",
    "        while not stop:\n",
    "            level = 1\n",
    "            if q**r > q**m:\n",
    "                level = floor(linear_security_level(q, r, e, q**m))\n",
    "                print(r, \"\\t\", \n",
    "                      e, \"\\t\",\n",
    "                      n * m, \"\\t\",\n",
    "                      level)\n",
    "            if level > max_security_level:\n",
    "                stop = True\n",
    "            r += 1\n",
    "    print(\"\\n\")"
   ]
  },
  {
   "cell_type": "code",
   "execution_count": null,
   "metadata": {},
   "outputs": [],
   "source": []
  }
 ],
 "metadata": {
  "kernelspec": {
   "display_name": "SageMath 9.3",
   "language": "sage",
   "name": "sagemath"
  },
  "language_info": {
   "codemirror_mode": {
    "name": "ipython",
    "version": 3
   },
   "file_extension": ".py",
   "mimetype": "text/x-python",
   "name": "python",
   "nbconvert_exporter": "python",
   "pygments_lexer": "ipython3",
   "version": "3.7.10"
  }
 },
 "nbformat": 4,
 "nbformat_minor": 4
}
