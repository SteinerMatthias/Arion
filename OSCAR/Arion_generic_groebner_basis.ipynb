{
 "cells": [
  {
   "attachments": {},
   "cell_type": "markdown",
   "metadata": {},
   "source": [
    "# Arion - Gröbner Basis For Generic Polynomial Model"
   ]
  },
  {
   "cell_type": "code",
   "execution_count": 20,
   "metadata": {},
   "outputs": [
    {
     "data": {
      "text/plain": [
       "16"
      ]
     },
     "metadata": {},
     "output_type": "display_data"
    }
   ],
   "source": [
    "using Oscar\n",
    "include(\"Arion.jl\")\n",
    "include(\"Arion_generic_polynomial_model.jl\")\n",
    "include(\"utilities.jl\")\n",
    "include(\"Arion_custom_functions.jl\")\n",
    "\n",
    "nr_thrds = 16\n",
    "info_level = 0\n",
    "\n",
    "Threads.nthreads()"
   ]
  },
  {
   "attachments": {},
   "cell_type": "markdown",
   "metadata": {},
   "source": [
    "## Type II Sigma"
   ]
  },
  {
   "attachments": {},
   "cell_type": "markdown",
   "metadata": {},
   "source": [
    "### n = 3, r = 6, d_1 = 3, d_2 = 257"
   ]
  },
  {
   "cell_type": "code",
   "execution_count": 21,
   "metadata": {},
   "outputs": [
    {
     "name": "stdout",
     "output_type": "stream",
     "text": [
      "Arion parameters\n",
      "Prime field: 268435463\n",
      "Branches: 3\n",
      "Rounds: 6\n",
      "Exponent d_1: 3\n",
      "Exponent d_2: 257\n",
      "Constants for the g_i's: [141016621 244863074; 100476321 15153244; 229041835 137640660; 101577172 86941586; 68121649 146382504; 204953928 148695602; 11224320 138613468; 239227998 16048629; 67907842 127963586; 146712347 232346572; 155869530 71161868; 167191762 120770202]\n",
      "Constants for the h_i's: [213115354; 51142311; 64788338; 241209689; 261781550; 152905302; 57340718; 1211852; 44775202; 120422903; 228378097; 88926355]\n",
      "Affine constants: [25951889 63953287 4567431; 249031468 116035318 200425824; 118383276 237449713 34452530; 171237646 189172204 91980235; 62146270 168284522 130866938; 80365214 181174789 88287252]\n"
     ]
    },
    {
     "name": "stdout",
     "output_type": "stream",
     "text": [
      "Sigma type in Arion GTDS: II\n",
      "Term order: degrevlex\n"
     ]
    }
   ],
   "source": [
    "p = 268435463;\n",
    "branches = 3;\n",
    "rounds = 6;\n",
    "d_1 = 3\n",
    "d_2 = 257\n",
    "    \n",
    "arion = Arion_constructor(field=GF(p),\n",
    "                          branches=branches, \n",
    "                          rounds=rounds, \n",
    "                          d_1=d_1, \n",
    "                          d_2=d_2);\n",
    "\n",
    "polys = generate_generic_Arion_polynomials(arion=arion, sigma_type=\"II\", info_level=1);"
   ]
  },
  {
   "cell_type": "code",
   "execution_count": 22,
   "metadata": {},
   "outputs": [
    {
     "name": "stdout",
     "output_type": "stream",
     "text": [
      "Round: 0\n",
      "Variable partition:\n",
      "z_1\n",
      "z_2\n",
      "z_3\n",
      "z_4\n",
      "z_5\n",
      "z_6\n",
      "Leading monomials:\n",
      "z_6^257\n",
      "z_5^257\n",
      "z_4^257\n",
      "z_3^257\n",
      "z_2^257\n",
      "z_1^257\n",
      "Quotient space dimension: 288136807515649\n",
      "\n",
      "\n",
      "Round: 1\n",
      "Variable partition:\n",
      "y_1\n",
      "y_2\n",
      "y_3\n",
      "Leading monomials:"
     ]
    },
    {
     "name": "stdout",
     "output_type": "stream",
     "text": [
      "\n",
      "y_1"
     ]
    },
    {
     "name": "stdout",
     "output_type": "stream",
     "text": [
      "\n",
      "y_2^5\n",
      "y_2^4*y_3^3\n",
      "y_2^2*y_3^6\n",
      "y_2^3*y_3^5\n",
      "y_3^9\n",
      "y_2*y_3^8\n"
     ]
    },
    {
     "name": "stdout",
     "output_type": "stream",
     "text": [
      "Quotient space dimension: 31\n",
      "\n",
      "\n",
      "Round: 2\n",
      "Variable partition:\n",
      "x_1__1\n",
      "x_2__1\n",
      "x_3__1\n"
     ]
    },
    {
     "name": "stdout",
     "output_type": "stream",
     "text": [
      "Leading monomials:\n",
      "x_1__1\n",
      "y_1\n",
      "x_2__1^3*x_3__1^2\n",
      "x_2__1^2*x_3__1^5\n",
      "x_2__1*x_3__1^7\n",
      "x_2__1^8\n",
      "x_3__1^9\n",
      "Quotient space dimension: 31\n",
      "\n",
      "\n",
      "Round: 3\n",
      "Variable partition:\n",
      "x_1__2\n",
      "x_2__2\n",
      "x_3__2\n",
      "Leading monomials:\n"
     ]
    },
    {
     "name": "stdout",
     "output_type": "stream",
     "text": [
      "x_1__2\n",
      "x_1__1\n",
      "y_1\n",
      "x_2__2^3*x_3__2^2\n",
      "x_2__2^2*x_3__2^5\n",
      "x_2__2*x_3__2^7\n",
      "x_2__2^8\n",
      "x_3__2^9\n",
      "Quotient space dimension: 31\n",
      "\n",
      "\n",
      "Round: 4\n",
      "Variable partition:\n",
      "x_1__3\n",
      "x_2__3\n",
      "x_3__3\n",
      "Leading monomials:\n",
      "x_1__3\n",
      "x_1__2\n",
      "x_1__1\n",
      "y_1\n",
      "x_2__3^3*x_3__3^2\n",
      "x_2__3^2*x_3__3^5\n",
      "x_2__3*x_3__3^7\n",
      "x_2__3^8\n",
      "x_3__3^9\n"
     ]
    },
    {
     "name": "stdout",
     "output_type": "stream",
     "text": [
      "Quotient space dimension: 31\n",
      "\n",
      "\n",
      "Round: 5\n",
      "Variable partition:\n",
      "x_1__4\n",
      "x_2__4\n",
      "x_3__4\n",
      "Leading monomials:\n",
      "x_1__4\n",
      "x_1__3\n",
      "x_1__2\n",
      "x_1__1\n",
      "y_1\n",
      "x_2__4^3*x_3__4^2\n",
      "x_2__4^2*x_3__4^5\n",
      "x_2__4*x_3__4^7\n",
      "x_2__4^8\n",
      "x_3__4^9\n"
     ]
    },
    {
     "name": "stdout",
     "output_type": "stream",
     "text": [
      "Quotient space dimension: 31\n",
      "\n",
      "\n",
      "Round: 6\n",
      "Variable partition:\n",
      "x_1__5\n",
      "x_2__5\n",
      "x_3__5\n",
      "Leading monomials:\n"
     ]
    },
    {
     "name": "stdout",
     "output_type": "stream",
     "text": [
      "x_1__5\n",
      "x_1__4\n",
      "x_1__3\n",
      "x_1__2\n",
      "x_1__1\n",
      "y_1\n",
      "x_2__5^3*x_3__5^2\n",
      "x_2__5^2*x_3__5^5\n",
      "x_2__5*x_3__5^7\n",
      "x_2__5^8\n",
      "x_3__5^9\n",
      "Quotient space dimension: 31\n",
      "\n",
      "\n"
     ]
    }
   ],
   "source": [
    "gb, D = Arion_groebner_basis_compution(arion, polys, nr_thrds=nr_thrds, info_level=info_level);"
   ]
  },
  {
   "cell_type": "code",
   "execution_count": 23,
   "metadata": {},
   "outputs": [
    {
     "name": "stdout",
     "output_type": "stream",
     "text": [
      "Quotient space dimension (bits): 77.758925157484519894355896211097726151620792018808396228647567003315118016112\n"
     ]
    }
   ],
   "source": [
    "println(\"Quotient space dimension (bits): \", log2(D))"
   ]
  },
  {
   "attachments": {},
   "cell_type": "markdown",
   "metadata": {},
   "source": [
    "### n = 3, r = 6, d_1 = 5, d_2 = 257"
   ]
  },
  {
   "cell_type": "code",
   "execution_count": 24,
   "metadata": {},
   "outputs": [
    {
     "name": "stdout",
     "output_type": "stream",
     "text": [
      "Arion parameters\n",
      "Prime field: 268435463\n",
      "Branches: 3\n",
      "Rounds: 6\n",
      "Exponent d_1: 5\n",
      "Exponent d_2: 257\n",
      "Constants for the g_i's: [36182997 242271876; 75567812 13779827; 202001469 169837990; 85400714 220035558; 102397850 33227482; 137263228 79837456; 246667767 29048404; 265506448 76096554; 176719270 211047798; 40633452 190804786; 10601058 117529767; 140703359 244334871]\n",
      "Constants for the h_i's: [249584104; 228373003; 192138696; 15231466; 254927813; 32080172; 138919139; 228976050; 176735740; 216466255; 68733574; 202989522]\n",
      "Affine constants: [117311525 212196851 62068191; 174914137 119210782 51509052; 102645113 54595940 139676779; 132668048 261404799 18509035; 638615 92396731 171525026; 231391120 10589289 26494262]\n",
      "Sigma type in Arion GTDS: II\n",
      "Term order: degrevlex\n"
     ]
    }
   ],
   "source": [
    "p = 268435463;\n",
    "branches = 3;\n",
    "rounds = 6;\n",
    "d_1 = 5\n",
    "d_2 = 257\n",
    "    \n",
    "arion = Arion_constructor(field=GF(p),\n",
    "                          branches=branches, \n",
    "                          rounds=rounds, \n",
    "                          d_1=d_1, \n",
    "                          d_2=d_2);\n",
    "\n",
    "polys = generate_generic_Arion_polynomials(arion=arion, sigma_type=\"II\", info_level=1);"
   ]
  },
  {
   "cell_type": "code",
   "execution_count": 25,
   "metadata": {},
   "outputs": [
    {
     "name": "stdout",
     "output_type": "stream",
     "text": [
      "Round: 0\n",
      "Variable partition:\n",
      "z_1\n",
      "z_2\n",
      "z_3\n",
      "z_4\n",
      "z_5\n",
      "z_6\n",
      "Leading monomials:\n",
      "z_6^257\n",
      "z_5^257\n",
      "z_4^257\n",
      "z_3^257\n",
      "z_2^257\n",
      "z_1^257\n",
      "Quotient space dimension: 288136807515649\n",
      "\n",
      "\n",
      "Round: 1\n",
      "Variable partition:\n",
      "y_1\n",
      "y_2\n",
      "y_3\n",
      "Leading monomials:"
     ]
    },
    {
     "name": "stdout",
     "output_type": "stream",
     "text": [
      "\n",
      "y_1"
     ]
    },
    {
     "name": "stdout",
     "output_type": "stream",
     "text": [
      "\n",
      "y_2^7\n",
      "y_2^6*y_3^3\n",
      "y_2^5*y_3^5\n",
      "y_2^4*y_3^7\n",
      "y_2^2*y_3^10\n",
      "y_2^3*y_3^9\n",
      "y_3^13\n",
      "y_2*y_3^12\n"
     ]
    },
    {
     "name": "stdout",
     "output_type": "stream",
     "text": [
      "Quotient space dimension: 59\n",
      "\n",
      "\n",
      "Round: 2\n",
      "Variable partition:\n",
      "x_1__1\n",
      "x_2__1\n",
      "x_3__1\n"
     ]
    },
    {
     "name": "stdout",
     "output_type": "stream",
     "text": [
      "Leading monomials:\n"
     ]
    },
    {
     "name": "stdout",
     "output_type": "stream",
     "text": [
      "x_1__1\n",
      "y_1\n",
      "x_2__1^5*x_3__1^2\n",
      "x_2__1^4*x_3__1^5\n",
      "x_2__1^3*x_3__1^7\n",
      "x_2__1^2*x_3__1^9\n",
      "x_2__1*x_3__1^11\n",
      "x_2__1^12\n",
      "x_3__1^13\n"
     ]
    },
    {
     "name": "stdout",
     "output_type": "stream",
     "text": [
      "Quotient space dimension: 59\n",
      "\n",
      "\n",
      "Round: 3\n",
      "Variable partition:\n",
      "x_1__2\n",
      "x_2__2\n",
      "x_3__2\n"
     ]
    },
    {
     "name": "stdout",
     "output_type": "stream",
     "text": [
      "Leading monomials:\n"
     ]
    },
    {
     "name": "stdout",
     "output_type": "stream",
     "text": [
      "x_1__2\n",
      "x_1__1\n",
      "y_1\n",
      "x_2__2^5*x_3__2^2\n",
      "x_2__2^4*x_3__2^5\n",
      "x_2__2^3*x_3__2^7\n",
      "x_2__2^2*x_3__2^9\n",
      "x_2__2*x_3__2^11\n",
      "x_2__2^12\n",
      "x_3__2^13\n"
     ]
    },
    {
     "name": "stdout",
     "output_type": "stream",
     "text": [
      "Quotient space dimension: 59\n",
      "\n",
      "\n",
      "Round: 4\n",
      "Variable partition:\n",
      "x_1__3\n",
      "x_2__3\n",
      "x_3__3\n"
     ]
    },
    {
     "name": "stdout",
     "output_type": "stream",
     "text": [
      "Leading monomials:\n"
     ]
    },
    {
     "name": "stdout",
     "output_type": "stream",
     "text": [
      "x_1__3\n",
      "x_1__2\n",
      "x_1__1\n",
      "y_1\n",
      "x_2__3^5*x_3__3^2\n",
      "x_2__3^4*x_3__3^5\n",
      "x_2__3^3*x_3__3^7\n",
      "x_2__3^2*x_3__3^9\n",
      "x_2__3*x_3__3^11\n",
      "x_2__3^12\n",
      "x_3__3^13\n"
     ]
    },
    {
     "name": "stdout",
     "output_type": "stream",
     "text": [
      "Quotient space dimension: 59\n",
      "\n",
      "\n",
      "Round: 5\n",
      "Variable partition:\n",
      "x_1__4\n",
      "x_2__4\n",
      "x_3__4\n"
     ]
    },
    {
     "name": "stdout",
     "output_type": "stream",
     "text": [
      "Leading monomials:\n"
     ]
    },
    {
     "name": "stdout",
     "output_type": "stream",
     "text": [
      "x_1__4\n",
      "x_1__3\n",
      "x_1__2\n",
      "x_1__1\n",
      "y_1\n",
      "x_2__4^5*x_3__4^2\n",
      "x_2__4^4*x_3__4^5\n",
      "x_2__4^3*x_3__4^7\n",
      "x_2__4^2*x_3__4^9\n",
      "x_2__4*x_3__4^11\n",
      "x_2__4^12\n",
      "x_3__4^13\n"
     ]
    },
    {
     "name": "stdout",
     "output_type": "stream",
     "text": [
      "Quotient space dimension: 59\n",
      "\n",
      "\n",
      "Round: 6\n",
      "Variable partition:\n",
      "x_1__5\n",
      "x_2__5\n",
      "x_3__5\n"
     ]
    },
    {
     "name": "stdout",
     "output_type": "stream",
     "text": [
      "Leading monomials:\n"
     ]
    },
    {
     "name": "stdout",
     "output_type": "stream",
     "text": [
      "x_1__5\n",
      "x_1__4\n",
      "x_1__3\n",
      "x_1__2\n",
      "x_1__1\n",
      "y_1\n",
      "x_2__5^5*x_3__5^2\n",
      "x_2__5^4*x_3__5^5\n",
      "x_2__5^3*x_3__5^7\n",
      "x_2__5^2*x_3__5^9\n",
      "x_2__5*x_3__5^11\n",
      "x_2__5^12\n",
      "x_3__5^13\n"
     ]
    },
    {
     "name": "stdout",
     "output_type": "stream",
     "text": [
      "Quotient space dimension: 59\n",
      "\n",
      "\n"
     ]
    }
   ],
   "source": [
    "gb, D = Arion_groebner_basis_compution(arion, polys, nr_thrds=nr_thrds, info_level=info_level);"
   ]
  },
  {
   "cell_type": "code",
   "execution_count": 26,
   "metadata": {},
   "outputs": [
    {
     "name": "stdout",
     "output_type": "stream",
     "text": [
      "Quotient space dimension (bits): 83.32960559133431619436359620763881899144327126246372764360974135697697887451323\n"
     ]
    }
   ],
   "source": [
    "println(\"Quotient space dimension (bits): \", log2(D))"
   ]
  },
  {
   "attachments": {},
   "cell_type": "markdown",
   "metadata": {},
   "source": [
    "## Type III Sigma"
   ]
  },
  {
   "attachments": {},
   "cell_type": "markdown",
   "metadata": {},
   "source": [
    "### n = 3, r = 6, d_1 = 3, d_2 = 257"
   ]
  },
  {
   "cell_type": "code",
   "execution_count": 27,
   "metadata": {},
   "outputs": [
    {
     "name": "stdout",
     "output_type": "stream",
     "text": [
      "Arion parameters\n",
      "Prime field: 268435463\n",
      "Branches: 3\n",
      "Rounds: 6\n",
      "Exponent d_1: 3\n",
      "Exponent d_2: 257\n",
      "Constants for the g_i's: [18451528 211492109; 252773028 170320799; 24316547 244522932; 259459066 221881366; 244336931 91418474; 3883441 19783584; 132933923 188006361; 108728353 89693405; 267265394 15328868; 2666464 133057696; 12427313 176568553; 6944534 67162244]\n",
      "Constants for the h_i's: [179602951; 206773207; 211462064; 217772267; 62270136; 17682366; 116198681; 34976143; 218095596; 109702397; 27776821; 44827975]\n",
      "Affine constants: [174582866 69178943 193390265; 150371013 203621145 113508724; 72115971 51085944 91837081; 2044799 11159172 82378262; 250480739 180062996 209470587; 155282532 44392007 222906472]\n",
      "Sigma type in Arion GTDS: III\n",
      "Term order: degrevlex\n"
     ]
    }
   ],
   "source": [
    "p = 268435463;\n",
    "branches = 3;\n",
    "rounds = 6;\n",
    "d_1 = 3\n",
    "d_2 = 257\n",
    "    \n",
    "arion = Arion_constructor(field=GF(p),\n",
    "                          branches=branches, \n",
    "                          rounds=rounds, \n",
    "                          d_1=d_1, \n",
    "                          d_2=d_2);\n",
    "\n",
    "polys = generate_generic_Arion_polynomials(arion=arion, sigma_type=\"III\", info_level=1);"
   ]
  },
  {
   "cell_type": "code",
   "execution_count": 28,
   "metadata": {},
   "outputs": [
    {
     "name": "stdout",
     "output_type": "stream",
     "text": [
      "Round: 0\n",
      "Variable partition:\n",
      "z_1\n",
      "z_2\n",
      "z_3\n",
      "z_4\n",
      "z_5\n",
      "z_6\n",
      "Leading monomials:\n",
      "z_6^257\n",
      "z_5^257\n",
      "z_4^257\n",
      "z_3^257\n",
      "z_2^257\n",
      "z_1^257\n",
      "Quotient space dimension: 288136807515649\n",
      "\n",
      "\n",
      "Round: 1\n",
      "Variable partition:\n",
      "y_1\n",
      "y_2\n",
      "y_3\n",
      "Leading monomials:"
     ]
    },
    {
     "name": "stdout",
     "output_type": "stream",
     "text": [
      "\n",
      "y_1"
     ]
    },
    {
     "name": "stdout",
     "output_type": "stream",
     "text": [
      "\n",
      "y_2^4*y_3\n",
      "y_2^5\n",
      "y_2^3*y_3^3\n",
      "y_2^2*y_3^5\n",
      "y_2*y_3^7\n",
      "y_3^9\n",
      "Quotient space dimension: 25\n",
      "\n",
      "\n",
      "Round: 2\n",
      "Variable partition:\n",
      "x_1__1\n",
      "x_2__1\n",
      "x_3__1\n",
      "Leading monomials:\n",
      "x_1__1\n",
      "y_1\n",
      "x_2__1^3*x_3__1^2\n",
      "x_2__1^5\n",
      "x_2__1^2*x_3__1^5\n",
      "x_2__1*x_3__1^7\n",
      "x_3__1^9\n"
     ]
    },
    {
     "name": "stdout",
     "output_type": "stream",
     "text": [
      "Quotient space dimension: 25\n",
      "\n",
      "\n",
      "Round: 3\n",
      "Variable partition:\n",
      "x_1__2\n",
      "x_2__2\n",
      "x_3__2\n",
      "Leading monomials:\n",
      "x_1__2\n",
      "x_1__1\n",
      "y_1\n",
      "x_2__2^3*x_3__2^2\n",
      "x_2__2^5\n",
      "x_2__2^2*x_3__2^5\n",
      "x_2__2*x_3__2^7\n",
      "x_3__2^9\n"
     ]
    },
    {
     "name": "stdout",
     "output_type": "stream",
     "text": [
      "Quotient space dimension: 25\n",
      "\n",
      "\n",
      "Round: 4\n",
      "Variable partition:\n",
      "x_1__3\n",
      "x_2__3\n",
      "x_3__3\n",
      "Leading monomials:\n",
      "x_1__3\n",
      "x_1__2\n",
      "x_1__1\n",
      "y_1\n",
      "x_2__3^3*x_3__3^2\n",
      "x_2__3^5\n",
      "x_2__3^2*x_3__3^5\n",
      "x_2__3*x_3__3^7\n",
      "x_3__3^9\n"
     ]
    },
    {
     "name": "stdout",
     "output_type": "stream",
     "text": [
      "Quotient space dimension: 25\n",
      "\n",
      "\n",
      "Round: 5\n",
      "Variable partition:\n",
      "x_1__4\n",
      "x_2__4\n",
      "x_3__4\n",
      "Leading monomials:\n"
     ]
    },
    {
     "name": "stdout",
     "output_type": "stream",
     "text": [
      "x_1__4\n",
      "x_1__3\n",
      "x_1__2\n",
      "x_1__1\n",
      "y_1\n",
      "x_2__4^3*x_3__4^2\n",
      "x_2__4^5\n",
      "x_2__4^2*x_3__4^5\n",
      "x_2__4*x_3__4^7\n",
      "x_3__4^9\n",
      "Quotient space dimension: 25\n",
      "\n",
      "\n",
      "Round: 6\n",
      "Variable partition:\n",
      "x_1__5\n",
      "x_2__5\n",
      "x_3__5\n",
      "Leading monomials:\n"
     ]
    },
    {
     "name": "stdout",
     "output_type": "stream",
     "text": [
      "x_1__5\n",
      "x_1__4\n",
      "x_1__3\n",
      "x_1__2\n",
      "x_1__1\n",
      "y_1\n",
      "x_2__5^3*x_3__5^2\n",
      "x_2__5^5\n",
      "x_2__5^2*x_3__5^5\n",
      "x_2__5*x_3__5^7\n",
      "x_3__5^9\n",
      "Quotient space dimension: 25\n",
      "\n",
      "\n"
     ]
    }
   ],
   "source": [
    "gb, D = Arion_groebner_basis_compution(arion, polys, nr_thrds=nr_thrds, info_level=info_level);"
   ]
  },
  {
   "cell_type": "code",
   "execution_count": 29,
   "metadata": {},
   "outputs": [
    {
     "name": "stdout",
     "output_type": "stream",
     "text": [
      "Quotient space dimension (bits): 75.89688443381161681596298776991708172070463480552507956010085142063071118426428\n"
     ]
    }
   ],
   "source": [
    "println(\"Quotient space dimension (bits): \", log2(D))"
   ]
  },
  {
   "attachments": {},
   "cell_type": "markdown",
   "metadata": {},
   "source": [
    "### n = 3, r = 6, d_1 = 5, d_2 = 257"
   ]
  },
  {
   "cell_type": "code",
   "execution_count": 30,
   "metadata": {},
   "outputs": [
    {
     "name": "stdout",
     "output_type": "stream",
     "text": [
      "Arion parameters\n",
      "Prime field: 268435463\n",
      "Branches: 3\n",
      "Rounds: 6\n",
      "Exponent d_1: 5\n",
      "Exponent d_2: 257\n",
      "Constants for the g_i's: [158209304 41586527; 63759335 249457953; 207951606 142481297; 135333739 161092255; 126859171 20720169; 211859906 11125505; 82581482 164966805; 854053 118493296; 87696831 28729432; 59293172 134145810; 31272214 192509387; 266420748 47754876]\n",
      "Constants for the h_i's: [64297148; 201652671; 208700103; 126895796; 28801959; 212868219; 63670089; 73841245; 67070194; 11413047; 85984591; 84356603]\n",
      "Affine constants: [186646223 202102710 135567984; 21228948 189578524 16822161; 125715666 81241831 227081220; 256354621 212036073 245150571; 201836774 224784586 221806398; 153304443 125444884 4456039]\n",
      "Sigma type in Arion GTDS: III\n",
      "Term order: degrevlex\n"
     ]
    }
   ],
   "source": [
    "p = 268435463;\n",
    "branches = 3;\n",
    "rounds = 6;\n",
    "d_1 = 5\n",
    "d_2 = 257\n",
    "    \n",
    "arion = Arion_constructor(field=GF(p),\n",
    "                          branches=branches, \n",
    "                          rounds=rounds, \n",
    "                          d_1=d_1, \n",
    "                          d_2=d_2);\n",
    "\n",
    "polys = generate_generic_Arion_polynomials(arion=arion, sigma_type=\"III\", info_level=1);"
   ]
  },
  {
   "cell_type": "code",
   "execution_count": 31,
   "metadata": {},
   "outputs": [
    {
     "name": "stdout",
     "output_type": "stream",
     "text": [
      "Round: 0\n",
      "Variable partition:\n",
      "z_1\n",
      "z_2\n",
      "z_3\n",
      "z_4\n",
      "z_5\n",
      "z_6\n",
      "Leading monomials:\n",
      "z_6^257\n",
      "z_5^257\n",
      "z_4^257\n",
      "z_3^257\n",
      "z_2^257\n",
      "z_1^257\n",
      "Quotient space dimension: 288136807515649\n",
      "\n",
      "\n",
      "Round: 1\n",
      "Variable partition:\n",
      "y_1\n",
      "y_2\n",
      "y_3\n",
      "Leading monomials:"
     ]
    },
    {
     "name": "stdout",
     "output_type": "stream",
     "text": [
      "\n",
      "y_1"
     ]
    },
    {
     "name": "stdout",
     "output_type": "stream",
     "text": [
      "\n",
      "y_2^6*y_3\n",
      "y_2^7\n",
      "y_2^5*y_3^3\n",
      "y_2^4*y_3^5\n",
      "y_2^3*y_3^7\n",
      "y_2^2*y_3^9\n",
      "y_2*y_3^11\n",
      "y_3^13\n"
     ]
    },
    {
     "name": "stdout",
     "output_type": "stream",
     "text": [
      "Quotient space dimension: 49\n",
      "\n",
      "\n",
      "Round: 2\n",
      "Variable partition:\n",
      "x_1__1\n",
      "x_2__1\n",
      "x_3__1\n"
     ]
    },
    {
     "name": "stdout",
     "output_type": "stream",
     "text": [
      "Leading monomials:\n"
     ]
    },
    {
     "name": "stdout",
     "output_type": "stream",
     "text": [
      "x_1__1\n",
      "y_1\n",
      "x_2__1^5*x_3__1^2\n",
      "x_2__1^7\n",
      "x_2__1^4*x_3__1^5\n",
      "x_2__1^3*x_3__1^7\n",
      "x_2__1^2*x_3__1^9\n",
      "x_2__1*x_3__1^11\n",
      "x_3__1^13\n",
      "Quotient space dimension: 49\n",
      "\n",
      "\n",
      "Round: 3\n",
      "Variable partition:\n",
      "x_1__2\n",
      "x_2__2\n",
      "x_3__2\n"
     ]
    },
    {
     "name": "stdout",
     "output_type": "stream",
     "text": [
      "Leading monomials:\n"
     ]
    },
    {
     "name": "stdout",
     "output_type": "stream",
     "text": [
      "x_1__2\n",
      "x_1__1\n",
      "y_1\n",
      "x_2__2^5*x_3__2^2\n",
      "x_2__2^7\n",
      "x_2__2^4*x_3__2^5\n",
      "x_2__2^3*x_3__2^7\n",
      "x_2__2^2*x_3__2^9\n",
      "x_2__2*x_3__2^11\n",
      "x_3__2^13\n"
     ]
    },
    {
     "name": "stdout",
     "output_type": "stream",
     "text": [
      "Quotient space dimension: 49\n",
      "\n",
      "\n",
      "Round: 4\n",
      "Variable partition:\n",
      "x_1__3\n",
      "x_2__3\n",
      "x_3__3\n"
     ]
    },
    {
     "name": "stdout",
     "output_type": "stream",
     "text": [
      "Leading monomials:\n"
     ]
    },
    {
     "name": "stdout",
     "output_type": "stream",
     "text": [
      "x_1__3\n",
      "x_1__2\n",
      "x_1__1\n",
      "y_1\n",
      "x_2__3^5*x_3__3^2\n",
      "x_2__3^7\n",
      "x_2__3^4*x_3__3^5\n",
      "x_2__3^3*x_3__3^7\n",
      "x_2__3^2*x_3__3^9\n",
      "x_2__3*x_3__3^11\n",
      "x_3__3^13\n",
      "Quotient space dimension: 49\n",
      "\n",
      "\n",
      "Round: 5\n",
      "Variable partition:\n",
      "x_1__4\n",
      "x_2__4\n",
      "x_3__4\n"
     ]
    },
    {
     "name": "stdout",
     "output_type": "stream",
     "text": [
      "Leading monomials:\n"
     ]
    },
    {
     "name": "stdout",
     "output_type": "stream",
     "text": [
      "x_1__4\n",
      "x_1__3\n",
      "x_1__2\n",
      "x_1__1\n",
      "y_1\n",
      "x_2__4^5*x_3__4^2\n",
      "x_2__4^7\n",
      "x_2__4^4*x_3__4^5\n",
      "x_2__4^3*x_3__4^7\n",
      "x_2__4^2*x_3__4^9\n",
      "x_2__4*x_3__4^11\n",
      "x_3__4^13\n",
      "Quotient space dimension: 49\n",
      "\n",
      "\n",
      "Round: 6\n",
      "Variable partition:\n",
      "x_1__5\n",
      "x_2__5\n",
      "x_3__5\n"
     ]
    },
    {
     "name": "stdout",
     "output_type": "stream",
     "text": [
      "Leading monomials:\n"
     ]
    },
    {
     "name": "stdout",
     "output_type": "stream",
     "text": [
      "x_1__5\n",
      "x_1__4\n",
      "x_1__3\n",
      "x_1__2\n",
      "x_1__1\n",
      "y_1\n",
      "x_2__5^5*x_3__5^2\n",
      "x_2__5^7\n",
      "x_2__5^4*x_3__5^5\n",
      "x_2__5^3*x_3__5^7\n",
      "x_2__5^2*x_3__5^9\n",
      "x_2__5*x_3__5^11\n",
      "x_3__5^13\n",
      "Quotient space dimension: 49\n",
      "\n",
      "\n"
     ]
    }
   ],
   "source": [
    "gb, D = Arion_groebner_basis_compution(arion, polys, nr_thrds=nr_thrds, info_level=info_level);"
   ]
  },
  {
   "cell_type": "code",
   "execution_count": 32,
   "metadata": {},
   "outputs": [
    {
     "name": "stdout",
     "output_type": "stream",
     "text": [
      "Quotient space dimension (bits): 81.72200635985451793082278642282636931401897760082380161957127535968334405130754\n"
     ]
    }
   ],
   "source": [
    "println(\"Quotient space dimension (bits): \", log2(D))"
   ]
  }
 ],
 "metadata": {
  "kernelspec": {
   "display_name": "Julia 1.8.4",
   "language": "julia",
   "name": "julia-1.8"
  },
  "language_info": {
   "file_extension": ".jl",
   "mimetype": "application/julia",
   "name": "julia",
   "version": "1.8.4"
  },
  "orig_nbformat": 4
 },
 "nbformat": 4,
 "nbformat_minor": 2
}
